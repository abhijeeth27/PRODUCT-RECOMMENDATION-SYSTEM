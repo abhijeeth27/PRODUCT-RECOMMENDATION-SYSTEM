{
 "cells": [
  {
   "cell_type": "code",
   "execution_count": 1,
   "id": "90aee37a",
   "metadata": {},
   "outputs": [],
   "source": [
    "# RECOMMENDATION SYSTEM 1 - Product pupularity based system targetted at new customers"
   ]
  },
  {
   "cell_type": "code",
   "execution_count": 2,
   "id": "7ae72170",
   "metadata": {},
   "outputs": [],
   "source": [
    "import numpy as np\n",
    "import pandas as pd\n",
    "import matplotlib.pyplot as mp\n",
    "\n",
    "# %matplotlib inline\n",
    "#plt.style.use(\"ggplot\")"
   ]
  },
  {
   "cell_type": "code",
   "execution_count": 3,
   "id": "0f3d05e5",
   "metadata": {},
   "outputs": [
    {
     "name": "stdout",
     "output_type": "stream",
     "text": [
      "<class 'pandas.core.frame.DataFrame'>\n",
      "RangeIndex: 2023070 entries, 0 to 2023069\n",
      "Data columns (total 4 columns):\n",
      " #   Column     Dtype  \n",
      "---  ------     -----  \n",
      " 0   UserId     object \n",
      " 1   ProductId  object \n",
      " 2   Rating     float64\n",
      " 3   Timestamp  int64  \n",
      "dtypes: float64(1), int64(1), object(2)\n",
      "memory usage: 61.7+ MB\n"
     ]
    }
   ],
   "source": [
    "amazon = pd.read_csv(r\"C:\\REAL TIME PROJECTS\\RECOMMENDATION SYSTEM\\ratings_Beauty.csv\")\n",
    "amazon.info()"
   ]
  },
  {
   "cell_type": "code",
   "execution_count": 4,
   "id": "2e0659df",
   "metadata": {},
   "outputs": [
    {
     "data": {
      "text/plain": [
       "UserId       0\n",
       "ProductId    0\n",
       "Rating       0\n",
       "Timestamp    0\n",
       "dtype: int64"
      ]
     },
     "execution_count": 4,
     "metadata": {},
     "output_type": "execute_result"
    }
   ],
   "source": [
    "amazon = amazon.dropna()\n",
    "amazon.isnull().sum()"
   ]
  },
  {
   "cell_type": "code",
   "execution_count": 5,
   "id": "d1f90dd2",
   "metadata": {},
   "outputs": [
    {
     "data": {
      "text/html": [
       "<div>\n",
       "<style scoped>\n",
       "    .dataframe tbody tr th:only-of-type {\n",
       "        vertical-align: middle;\n",
       "    }\n",
       "\n",
       "    .dataframe tbody tr th {\n",
       "        vertical-align: top;\n",
       "    }\n",
       "\n",
       "    .dataframe thead th {\n",
       "        text-align: right;\n",
       "    }\n",
       "</style>\n",
       "<table border=\"1\" class=\"dataframe\">\n",
       "  <thead>\n",
       "    <tr style=\"text-align: right;\">\n",
       "      <th></th>\n",
       "      <th>UserId</th>\n",
       "      <th>ProductId</th>\n",
       "      <th>Rating</th>\n",
       "      <th>Timestamp</th>\n",
       "    </tr>\n",
       "  </thead>\n",
       "  <tbody>\n",
       "    <tr>\n",
       "      <th>0</th>\n",
       "      <td>A39HTATAQ9V7YF</td>\n",
       "      <td>0205616461</td>\n",
       "      <td>5.0</td>\n",
       "      <td>1369699200</td>\n",
       "    </tr>\n",
       "    <tr>\n",
       "      <th>1</th>\n",
       "      <td>A3JM6GV9MNOF9X</td>\n",
       "      <td>0558925278</td>\n",
       "      <td>3.0</td>\n",
       "      <td>1355443200</td>\n",
       "    </tr>\n",
       "    <tr>\n",
       "      <th>2</th>\n",
       "      <td>A1Z513UWSAAO0F</td>\n",
       "      <td>0558925278</td>\n",
       "      <td>5.0</td>\n",
       "      <td>1404691200</td>\n",
       "    </tr>\n",
       "    <tr>\n",
       "      <th>3</th>\n",
       "      <td>A1WMRR494NWEWV</td>\n",
       "      <td>0733001998</td>\n",
       "      <td>4.0</td>\n",
       "      <td>1382572800</td>\n",
       "    </tr>\n",
       "    <tr>\n",
       "      <th>4</th>\n",
       "      <td>A3IAAVS479H7M7</td>\n",
       "      <td>0737104473</td>\n",
       "      <td>1.0</td>\n",
       "      <td>1274227200</td>\n",
       "    </tr>\n",
       "  </tbody>\n",
       "</table>\n",
       "</div>"
      ],
      "text/plain": [
       "           UserId   ProductId  Rating   Timestamp\n",
       "0  A39HTATAQ9V7YF  0205616461     5.0  1369699200\n",
       "1  A3JM6GV9MNOF9X  0558925278     3.0  1355443200\n",
       "2  A1Z513UWSAAO0F  0558925278     5.0  1404691200\n",
       "3  A1WMRR494NWEWV  0733001998     4.0  1382572800\n",
       "4  A3IAAVS479H7M7  0737104473     1.0  1274227200"
      ]
     },
     "execution_count": 5,
     "metadata": {},
     "output_type": "execute_result"
    }
   ],
   "source": [
    "amazon.head()"
   ]
  },
  {
   "cell_type": "code",
   "execution_count": 6,
   "id": "f35e7e21",
   "metadata": {},
   "outputs": [
    {
     "data": {
      "text/plain": [
       "(2023070, 4)"
      ]
     },
     "execution_count": 6,
     "metadata": {},
     "output_type": "execute_result"
    }
   ],
   "source": [
    "amazon.shape"
   ]
  },
  {
   "cell_type": "code",
   "execution_count": 7,
   "id": "5b884f60",
   "metadata": {},
   "outputs": [
    {
     "data": {
      "text/html": [
       "<div>\n",
       "<style scoped>\n",
       "    .dataframe tbody tr th:only-of-type {\n",
       "        vertical-align: middle;\n",
       "    }\n",
       "\n",
       "    .dataframe tbody tr th {\n",
       "        vertical-align: top;\n",
       "    }\n",
       "\n",
       "    .dataframe thead th {\n",
       "        text-align: right;\n",
       "    }\n",
       "</style>\n",
       "<table border=\"1\" class=\"dataframe\">\n",
       "  <thead>\n",
       "    <tr style=\"text-align: right;\">\n",
       "      <th></th>\n",
       "      <th>Rating</th>\n",
       "    </tr>\n",
       "    <tr>\n",
       "      <th>ProductId</th>\n",
       "      <th></th>\n",
       "    </tr>\n",
       "  </thead>\n",
       "  <tbody>\n",
       "    <tr>\n",
       "      <th>B001MA0QY2</th>\n",
       "      <td>7533</td>\n",
       "    </tr>\n",
       "    <tr>\n",
       "      <th>B0009V1YR8</th>\n",
       "      <td>2869</td>\n",
       "    </tr>\n",
       "    <tr>\n",
       "      <th>B0043OYFKU</th>\n",
       "      <td>2477</td>\n",
       "    </tr>\n",
       "    <tr>\n",
       "      <th>B0000YUXI0</th>\n",
       "      <td>2143</td>\n",
       "    </tr>\n",
       "    <tr>\n",
       "      <th>B003V265QW</th>\n",
       "      <td>2088</td>\n",
       "    </tr>\n",
       "    <tr>\n",
       "      <th>B000ZMBSPE</th>\n",
       "      <td>2041</td>\n",
       "    </tr>\n",
       "    <tr>\n",
       "      <th>B003BQ6QXK</th>\n",
       "      <td>1918</td>\n",
       "    </tr>\n",
       "    <tr>\n",
       "      <th>B004OHQR1Q</th>\n",
       "      <td>1885</td>\n",
       "    </tr>\n",
       "    <tr>\n",
       "      <th>B00121UVU0</th>\n",
       "      <td>1838</td>\n",
       "    </tr>\n",
       "    <tr>\n",
       "      <th>B000FS05VG</th>\n",
       "      <td>1589</td>\n",
       "    </tr>\n",
       "  </tbody>\n",
       "</table>\n",
       "</div>"
      ],
      "text/plain": [
       "            Rating\n",
       "ProductId         \n",
       "B001MA0QY2    7533\n",
       "B0009V1YR8    2869\n",
       "B0043OYFKU    2477\n",
       "B0000YUXI0    2143\n",
       "B003V265QW    2088\n",
       "B000ZMBSPE    2041\n",
       "B003BQ6QXK    1918\n",
       "B004OHQR1Q    1885\n",
       "B00121UVU0    1838\n",
       "B000FS05VG    1589"
      ]
     },
     "execution_count": 7,
     "metadata": {},
     "output_type": "execute_result"
    }
   ],
   "source": [
    "pop_prod = pd.DataFrame(amazon.groupby('ProductId')['Rating'].count()) \n",
    "# combined product id and rating to find the most popular product \n",
    "most_pop = pop_prod.sort_values('Rating', ascending=False)\n",
    "most_pop.head(10)"
   ]
  },
  {
   "cell_type": "code",
   "execution_count": 8,
   "id": "7d01848f",
   "metadata": {},
   "outputs": [
    {
     "data": {
      "text/plain": [
       "<Axes: xlabel='ProductId'>"
      ]
     },
     "execution_count": 8,
     "metadata": {},
     "output_type": "execute_result"
    },
    {
     "data": {
      "image/png": "[encoded data removed]",
      "text/plain": [
       "<Figure size 640x480 with 1 Axes>"
      ]
     },
     "metadata": {},
     "output_type": "display_data"
    }
   ],
   "source": [
    "most_pop.head(30).plot(kind = \"bar\")"
   ]
  },
  {
   "cell_type": "code",
   "execution_count": 9,
   "id": "4c1312da",
   "metadata": {},
   "outputs": [],
   "source": [
    "# RECOMMENDATION SYSTEM 2 - Model-based collaborative filtering system based on customer's purchase history\n",
    "#                           and ratings provided by other users who bought items similar items"
   ]
  },
  {
   "cell_type": "code",
   "execution_count": 10,
   "id": "15664085",
   "metadata": {},
   "outputs": [],
   "source": [
    "amazon1 = amazon.head(500)"
   ]
  },
  {
   "cell_type": "code",
   "execution_count": 11,
   "id": "2618657e",
   "metadata": {},
   "outputs": [
    {
     "data": {
      "text/html": [
       "<div>\n",
       "<style scoped>\n",
       "    .dataframe tbody tr th:only-of-type {\n",
       "        vertical-align: middle;\n",
       "    }\n",
       "\n",
       "    .dataframe tbody tr th {\n",
       "        vertical-align: top;\n",
       "    }\n",
       "\n",
       "    .dataframe thead th {\n",
       "        text-align: right;\n",
       "    }\n",
       "</style>\n",
       "<table border=\"1\" class=\"dataframe\">\n",
       "  <thead>\n",
       "    <tr style=\"text-align: right;\">\n",
       "      <th>UserId</th>\n",
       "      <th>A00205921JHJK5X9LNP42</th>\n",
       "      <th>A024581134CV80ZBLIZTZ</th>\n",
       "      <th>A05492663T95KW63BR75K</th>\n",
       "      <th>A100GYE1W4OXZ8</th>\n",
       "      <th>A10205RFE66H1R</th>\n",
       "      <th>A10REFE1TW3ZVT</th>\n",
       "      <th>A10ZKDOZOSH219</th>\n",
       "      <th>A11AT6B3912DCU</th>\n",
       "      <th>A11J7PLZJ99M7O</th>\n",
       "      <th>A11OEJ4R1PDTLN</th>\n",
       "      <th>...</th>\n",
       "      <th>AY25UTTDNJ5SX</th>\n",
       "      <th>AY3F1CVHTNVBU</th>\n",
       "      <th>AYFZQPNEVSFMD</th>\n",
       "      <th>AYHZNXRPOHMO2</th>\n",
       "      <th>AYI1LDJYGG0ZK</th>\n",
       "      <th>AYM7E80UCJX7I</th>\n",
       "      <th>AZ4FR14IPKML7</th>\n",
       "      <th>AZGGH4GS18RUN</th>\n",
       "      <th>AZLE2XFH3JUNG</th>\n",
       "      <th>AZWRTJPN7NXT</th>\n",
       "    </tr>\n",
       "    <tr>\n",
       "      <th>ProductId</th>\n",
       "      <th></th>\n",
       "      <th></th>\n",
       "      <th></th>\n",
       "      <th></th>\n",
       "      <th></th>\n",
       "      <th></th>\n",
       "      <th></th>\n",
       "      <th></th>\n",
       "      <th></th>\n",
       "      <th></th>\n",
       "      <th></th>\n",
       "      <th></th>\n",
       "      <th></th>\n",
       "      <th></th>\n",
       "      <th></th>\n",
       "      <th></th>\n",
       "      <th></th>\n",
       "      <th></th>\n",
       "      <th></th>\n",
       "      <th></th>\n",
       "      <th></th>\n",
       "    </tr>\n",
       "  </thead>\n",
       "  <tbody>\n",
       "    <tr>\n",
       "      <th>0205616461</th>\n",
       "      <td>0</td>\n",
       "      <td>0</td>\n",
       "      <td>0</td>\n",
       "      <td>0</td>\n",
       "      <td>0</td>\n",
       "      <td>0</td>\n",
       "      <td>0</td>\n",
       "      <td>0</td>\n",
       "      <td>0</td>\n",
       "      <td>0</td>\n",
       "      <td>...</td>\n",
       "      <td>0</td>\n",
       "      <td>0</td>\n",
       "      <td>0</td>\n",
       "      <td>0</td>\n",
       "      <td>0</td>\n",
       "      <td>0</td>\n",
       "      <td>0</td>\n",
       "      <td>0</td>\n",
       "      <td>0</td>\n",
       "      <td>0</td>\n",
       "    </tr>\n",
       "    <tr>\n",
       "      <th>0558925278</th>\n",
       "      <td>0</td>\n",
       "      <td>0</td>\n",
       "      <td>0</td>\n",
       "      <td>0</td>\n",
       "      <td>0</td>\n",
       "      <td>0</td>\n",
       "      <td>0</td>\n",
       "      <td>0</td>\n",
       "      <td>0</td>\n",
       "      <td>0</td>\n",
       "      <td>...</td>\n",
       "      <td>0</td>\n",
       "      <td>0</td>\n",
       "      <td>0</td>\n",
       "      <td>0</td>\n",
       "      <td>0</td>\n",
       "      <td>0</td>\n",
       "      <td>0</td>\n",
       "      <td>0</td>\n",
       "      <td>0</td>\n",
       "      <td>0</td>\n",
       "    </tr>\n",
       "    <tr>\n",
       "      <th>0733001998</th>\n",
       "      <td>0</td>\n",
       "      <td>0</td>\n",
       "      <td>0</td>\n",
       "      <td>0</td>\n",
       "      <td>0</td>\n",
       "      <td>0</td>\n",
       "      <td>0</td>\n",
       "      <td>0</td>\n",
       "      <td>0</td>\n",
       "      <td>0</td>\n",
       "      <td>...</td>\n",
       "      <td>0</td>\n",
       "      <td>0</td>\n",
       "      <td>0</td>\n",
       "      <td>0</td>\n",
       "      <td>0</td>\n",
       "      <td>0</td>\n",
       "      <td>0</td>\n",
       "      <td>0</td>\n",
       "      <td>0</td>\n",
       "      <td>0</td>\n",
       "    </tr>\n",
       "    <tr>\n",
       "      <th>0737104473</th>\n",
       "      <td>0</td>\n",
       "      <td>0</td>\n",
       "      <td>0</td>\n",
       "      <td>0</td>\n",
       "      <td>0</td>\n",
       "      <td>0</td>\n",
       "      <td>0</td>\n",
       "      <td>0</td>\n",
       "      <td>0</td>\n",
       "      <td>0</td>\n",
       "      <td>...</td>\n",
       "      <td>0</td>\n",
       "      <td>0</td>\n",
       "      <td>0</td>\n",
       "      <td>0</td>\n",
       "      <td>0</td>\n",
       "      <td>0</td>\n",
       "      <td>0</td>\n",
       "      <td>0</td>\n",
       "      <td>0</td>\n",
       "      <td>0</td>\n",
       "    </tr>\n",
       "    <tr>\n",
       "      <th>0762451459</th>\n",
       "      <td>0</td>\n",
       "      <td>0</td>\n",
       "      <td>0</td>\n",
       "      <td>0</td>\n",
       "      <td>0</td>\n",
       "      <td>0</td>\n",
       "      <td>0</td>\n",
       "      <td>0</td>\n",
       "      <td>0</td>\n",
       "      <td>0</td>\n",
       "      <td>...</td>\n",
       "      <td>0</td>\n",
       "      <td>0</td>\n",
       "      <td>0</td>\n",
       "      <td>0</td>\n",
       "      <td>0</td>\n",
       "      <td>0</td>\n",
       "      <td>0</td>\n",
       "      <td>0</td>\n",
       "      <td>0</td>\n",
       "      <td>0</td>\n",
       "    </tr>\n",
       "  </tbody>\n",
       "</table>\n",
       "<p>5 rows × 453 columns</p>\n",
       "</div>"
      ],
      "text/plain": [
       "UserId      A00205921JHJK5X9LNP42  A024581134CV80ZBLIZTZ   \n",
       "ProductId                                                  \n",
       "0205616461                      0                      0  \\\n",
       "0558925278                      0                      0   \n",
       "0733001998                      0                      0   \n",
       "0737104473                      0                      0   \n",
       "0762451459                      0                      0   \n",
       "\n",
       "UserId      A05492663T95KW63BR75K  A100GYE1W4OXZ8  A10205RFE66H1R   \n",
       "ProductId                                                           \n",
       "0205616461                      0               0               0  \\\n",
       "0558925278                      0               0               0   \n",
       "0733001998                      0               0               0   \n",
       "0737104473                      0               0               0   \n",
       "0762451459                      0               0               0   \n",
       "\n",
       "UserId      A10REFE1TW3ZVT  A10ZKDOZOSH219  A11AT6B3912DCU  A11J7PLZJ99M7O   \n",
       "ProductId                                                                    \n",
       "0205616461               0               0               0               0  \\\n",
       "0558925278               0               0               0               0   \n",
       "0733001998               0               0               0               0   \n",
       "0737104473               0               0               0               0   \n",
       "0762451459               0               0               0               0   \n",
       "\n",
       "UserId      A11OEJ4R1PDTLN  ...  AY25UTTDNJ5SX  AY3F1CVHTNVBU  AYFZQPNEVSFMD   \n",
       "ProductId                   ...                                                \n",
       "0205616461               0  ...              0              0              0  \\\n",
       "0558925278               0  ...              0              0              0   \n",
       "0733001998               0  ...              0              0              0   \n",
       "0737104473               0  ...              0              0              0   \n",
       "0762451459               0  ...              0              0              0   \n",
       "\n",
       "UserId      AYHZNXRPOHMO2  AYI1LDJYGG0ZK  AYM7E80UCJX7I  AZ4FR14IPKML7   \n",
       "ProductId                                                                \n",
       "0205616461              0              0              0              0  \\\n",
       "0558925278              0              0              0              0   \n",
       "0733001998              0              0              0              0   \n",
       "0737104473              0              0              0              0   \n",
       "0762451459              0              0              0              0   \n",
       "\n",
       "UserId      AZGGH4GS18RUN  AZLE2XFH3JUNG  AZWRTJPN7NXT  \n",
       "ProductId                                               \n",
       "0205616461              0              0             0  \n",
       "0558925278              0              0             0  \n",
       "0733001998              0              0             0  \n",
       "0737104473              0              0             0  \n",
       "0762451459              0              0             0  \n",
       "\n",
       "[5 rows x 453 columns]"
      ]
     },
     "execution_count": 11,
     "metadata": {},
     "output_type": "execute_result"
    }
   ],
   "source": [
    "rating = amazon1.pivot_table(values='Rating', index='ProductId', columns='UserId', fill_value=0)\n",
    "rating.head()\n",
    "# used to find the rating of every product given by every user"
   ]
  },
  {
   "cell_type": "code",
   "execution_count": 12,
   "id": "a78ae0d0",
   "metadata": {},
   "outputs": [
    {
     "data": {
      "text/plain": [
       "(170, 453)"
      ]
     },
     "execution_count": 12,
     "metadata": {},
     "output_type": "execute_result"
    }
   ],
   "source": [
    "rating.shape"
   ]
  },
  {
   "cell_type": "code",
   "execution_count": 13,
   "id": "ef6c09d5",
   "metadata": {},
   "outputs": [],
   "source": [
    "# Transposing the matrix"
   ]
  },
  {
   "cell_type": "code",
   "execution_count": 14,
   "id": "daaa17fb",
   "metadata": {},
   "outputs": [
    {
     "data": {
      "text/html": [
       "<div>\n",
       "<style scoped>\n",
       "    .dataframe tbody tr th:only-of-type {\n",
       "        vertical-align: middle;\n",
       "    }\n",
       "\n",
       "    .dataframe tbody tr th {\n",
       "        vertical-align: top;\n",
       "    }\n",
       "\n",
       "    .dataframe thead th {\n",
       "        text-align: right;\n",
       "    }\n",
       "</style>\n",
       "<table border=\"1\" class=\"dataframe\">\n",
       "  <thead>\n",
       "    <tr style=\"text-align: right;\">\n",
       "      <th>ProductId</th>\n",
       "      <th>0205616461</th>\n",
       "      <th>0558925278</th>\n",
       "      <th>0733001998</th>\n",
       "      <th>0737104473</th>\n",
       "      <th>0762451459</th>\n",
       "      <th>1304139212</th>\n",
       "      <th>1304139220</th>\n",
       "      <th>130414089X</th>\n",
       "      <th>130414643X</th>\n",
       "      <th>1304146537</th>\n",
       "      <th>...</th>\n",
       "      <th>9742126046</th>\n",
       "      <th>9742189889</th>\n",
       "      <th>9742496811</th>\n",
       "      <th>974383785X</th>\n",
       "      <th>9744287233</th>\n",
       "      <th>9744434139</th>\n",
       "      <th>9745340936</th>\n",
       "      <th>9745343412</th>\n",
       "      <th>974619187X</th>\n",
       "      <th>9746427962</th>\n",
       "    </tr>\n",
       "    <tr>\n",
       "      <th>UserId</th>\n",
       "      <th></th>\n",
       "      <th></th>\n",
       "      <th></th>\n",
       "      <th></th>\n",
       "      <th></th>\n",
       "      <th></th>\n",
       "      <th></th>\n",
       "      <th></th>\n",
       "      <th></th>\n",
       "      <th></th>\n",
       "      <th></th>\n",
       "      <th></th>\n",
       "      <th></th>\n",
       "      <th></th>\n",
       "      <th></th>\n",
       "      <th></th>\n",
       "      <th></th>\n",
       "      <th></th>\n",
       "      <th></th>\n",
       "      <th></th>\n",
       "      <th></th>\n",
       "    </tr>\n",
       "  </thead>\n",
       "  <tbody>\n",
       "    <tr>\n",
       "      <th>A00205921JHJK5X9LNP42</th>\n",
       "      <td>0</td>\n",
       "      <td>0</td>\n",
       "      <td>0</td>\n",
       "      <td>0</td>\n",
       "      <td>0</td>\n",
       "      <td>0</td>\n",
       "      <td>0</td>\n",
       "      <td>0</td>\n",
       "      <td>0</td>\n",
       "      <td>0</td>\n",
       "      <td>...</td>\n",
       "      <td>0</td>\n",
       "      <td>0</td>\n",
       "      <td>0</td>\n",
       "      <td>0</td>\n",
       "      <td>0</td>\n",
       "      <td>0</td>\n",
       "      <td>0</td>\n",
       "      <td>0</td>\n",
       "      <td>0</td>\n",
       "      <td>0</td>\n",
       "    </tr>\n",
       "    <tr>\n",
       "      <th>A024581134CV80ZBLIZTZ</th>\n",
       "      <td>0</td>\n",
       "      <td>0</td>\n",
       "      <td>0</td>\n",
       "      <td>0</td>\n",
       "      <td>0</td>\n",
       "      <td>0</td>\n",
       "      <td>0</td>\n",
       "      <td>0</td>\n",
       "      <td>0</td>\n",
       "      <td>0</td>\n",
       "      <td>...</td>\n",
       "      <td>0</td>\n",
       "      <td>0</td>\n",
       "      <td>0</td>\n",
       "      <td>0</td>\n",
       "      <td>0</td>\n",
       "      <td>0</td>\n",
       "      <td>0</td>\n",
       "      <td>0</td>\n",
       "      <td>0</td>\n",
       "      <td>0</td>\n",
       "    </tr>\n",
       "    <tr>\n",
       "      <th>A05492663T95KW63BR75K</th>\n",
       "      <td>0</td>\n",
       "      <td>0</td>\n",
       "      <td>0</td>\n",
       "      <td>0</td>\n",
       "      <td>0</td>\n",
       "      <td>0</td>\n",
       "      <td>0</td>\n",
       "      <td>0</td>\n",
       "      <td>0</td>\n",
       "      <td>0</td>\n",
       "      <td>...</td>\n",
       "      <td>0</td>\n",
       "      <td>0</td>\n",
       "      <td>0</td>\n",
       "      <td>0</td>\n",
       "      <td>0</td>\n",
       "      <td>0</td>\n",
       "      <td>0</td>\n",
       "      <td>0</td>\n",
       "      <td>0</td>\n",
       "      <td>0</td>\n",
       "    </tr>\n",
       "    <tr>\n",
       "      <th>A100GYE1W4OXZ8</th>\n",
       "      <td>0</td>\n",
       "      <td>0</td>\n",
       "      <td>0</td>\n",
       "      <td>0</td>\n",
       "      <td>0</td>\n",
       "      <td>0</td>\n",
       "      <td>0</td>\n",
       "      <td>0</td>\n",
       "      <td>0</td>\n",
       "      <td>0</td>\n",
       "      <td>...</td>\n",
       "      <td>0</td>\n",
       "      <td>0</td>\n",
       "      <td>0</td>\n",
       "      <td>0</td>\n",
       "      <td>0</td>\n",
       "      <td>0</td>\n",
       "      <td>0</td>\n",
       "      <td>0</td>\n",
       "      <td>0</td>\n",
       "      <td>0</td>\n",
       "    </tr>\n",
       "    <tr>\n",
       "      <th>A10205RFE66H1R</th>\n",
       "      <td>0</td>\n",
       "      <td>0</td>\n",
       "      <td>0</td>\n",
       "      <td>0</td>\n",
       "      <td>0</td>\n",
       "      <td>0</td>\n",
       "      <td>0</td>\n",
       "      <td>0</td>\n",
       "      <td>0</td>\n",
       "      <td>0</td>\n",
       "      <td>...</td>\n",
       "      <td>0</td>\n",
       "      <td>0</td>\n",
       "      <td>0</td>\n",
       "      <td>3</td>\n",
       "      <td>0</td>\n",
       "      <td>0</td>\n",
       "      <td>0</td>\n",
       "      <td>0</td>\n",
       "      <td>0</td>\n",
       "      <td>0</td>\n",
       "    </tr>\n",
       "  </tbody>\n",
       "</table>\n",
       "<p>5 rows × 170 columns</p>\n",
       "</div>"
      ],
      "text/plain": [
       "ProductId              0205616461  0558925278  0733001998  0737104473   \n",
       "UserId                                                                  \n",
       "A00205921JHJK5X9LNP42           0           0           0           0  \\\n",
       "A024581134CV80ZBLIZTZ           0           0           0           0   \n",
       "A05492663T95KW63BR75K           0           0           0           0   \n",
       "A100GYE1W4OXZ8                  0           0           0           0   \n",
       "A10205RFE66H1R                  0           0           0           0   \n",
       "\n",
       "ProductId              0762451459  1304139212  1304139220  130414089X   \n",
       "UserId                                                                  \n",
       "A00205921JHJK5X9LNP42           0           0           0           0  \\\n",
       "A024581134CV80ZBLIZTZ           0           0           0           0   \n",
       "A05492663T95KW63BR75K           0           0           0           0   \n",
       "A100GYE1W4OXZ8                  0           0           0           0   \n",
       "A10205RFE66H1R                  0           0           0           0   \n",
       "\n",
       "ProductId              130414643X  1304146537  ...  9742126046  9742189889   \n",
       "UserId                                         ...                           \n",
       "A00205921JHJK5X9LNP42           0           0  ...           0           0  \\\n",
       "A024581134CV80ZBLIZTZ           0           0  ...           0           0   \n",
       "A05492663T95KW63BR75K           0           0  ...           0           0   \n",
       "A100GYE1W4OXZ8                  0           0  ...           0           0   \n",
       "A10205RFE66H1R                  0           0  ...           0           0   \n",
       "\n",
       "ProductId              9742496811  974383785X  9744287233  9744434139   \n",
       "UserId                                                                  \n",
       "A00205921JHJK5X9LNP42           0           0           0           0  \\\n",
       "A024581134CV80ZBLIZTZ           0           0           0           0   \n",
       "A05492663T95KW63BR75K           0           0           0           0   \n",
       "A100GYE1W4OXZ8                  0           0           0           0   \n",
       "A10205RFE66H1R                  0           3           0           0   \n",
       "\n",
       "ProductId              9745340936  9745343412  974619187X  9746427962  \n",
       "UserId                                                                 \n",
       "A00205921JHJK5X9LNP42           0           0           0           0  \n",
       "A024581134CV80ZBLIZTZ           0           0           0           0  \n",
       "A05492663T95KW63BR75K           0           0           0           0  \n",
       "A100GYE1W4OXZ8                  0           0           0           0  \n",
       "A10205RFE66H1R                  0           0           0           0  \n",
       "\n",
       "[5 rows x 170 columns]"
      ]
     },
     "execution_count": 14,
     "metadata": {},
     "output_type": "execute_result"
    }
   ],
   "source": [
    "x = rating.T\n",
    "x.head()"
   ]
  },
  {
   "cell_type": "code",
   "execution_count": 15,
   "id": "cbee23d2",
   "metadata": {},
   "outputs": [],
   "source": [
    "# Decomposing the Matrix"
   ]
  },
  {
   "cell_type": "code",
   "execution_count": 16,
   "id": "862142f1",
   "metadata": {},
   "outputs": [
    {
     "data": {
      "text/plain": [
       "(453, 10)"
      ]
     },
     "execution_count": 16,
     "metadata": {},
     "output_type": "execute_result"
    }
   ],
   "source": [
    "import sklearn\n",
    "from sklearn.decomposition import TruncatedSVD\n",
    "\n",
    "SVD = TruncatedSVD(n_components=10)\n",
    "decomposed_matrix = SVD.fit_transform(x)\n",
    "decomposed_matrix.shape"
   ]
  },
  {
   "cell_type": "code",
   "execution_count": 17,
   "id": "5e7a0585",
   "metadata": {},
   "outputs": [],
   "source": [
    "# Correlation Matrix"
   ]
  },
  {
   "cell_type": "code",
   "execution_count": 18,
   "id": "88baddd6",
   "metadata": {},
   "outputs": [
    {
     "data": {
      "text/plain": [
       "(453, 453)"
      ]
     },
     "execution_count": 18,
     "metadata": {},
     "output_type": "execute_result"
    }
   ],
   "source": [
    "correlation_matrix = np.corrcoef(decomposed_matrix)\n",
    "correlation_matrix.shape"
   ]
  },
  {
   "cell_type": "code",
   "execution_count": 19,
   "id": "5062c406",
   "metadata": {},
   "outputs": [],
   "source": [
    "i = x.index[27] # randomly selecting a product"
   ]
  },
  {
   "cell_type": "code",
   "execution_count": 20,
   "id": "1a194966",
   "metadata": {},
   "outputs": [
    {
     "data": {
      "text/plain": [
       "(453,)"
      ]
     },
     "execution_count": 20,
     "metadata": {},
     "output_type": "execute_result"
    }
   ],
   "source": [
    "correlation_product_ID = correlation_matrix[27]\n",
    "correlation_product_ID.shape"
   ]
  },
  {
   "cell_type": "code",
   "execution_count": 21,
   "id": "d9206d8a",
   "metadata": {},
   "outputs": [],
   "source": [
    "# Recommending top 10 highly correlated products in sequence"
   ]
  },
  {
   "cell_type": "code",
   "execution_count": 22,
   "id": "0d72c952",
   "metadata": {},
   "outputs": [
    {
     "data": {
      "text/plain": [
       "['A1JM3NL9GSQ17N',\n",
       " 'A267CAHUU3HOPQ',\n",
       " 'A2686J58T322ZS',\n",
       " 'A26TLFFBFPEOKJ',\n",
       " 'A2H3NOCLLEPOKQ',\n",
       " 'A2P0254ZZ42ZOJ',\n",
       " 'A2Q8QWVIZM213M',\n",
       " 'A39SBRLJ1EQX1R',\n",
       " 'A3A2HRW0GR4EWU']"
      ]
     },
     "execution_count": 22,
     "metadata": {},
     "output_type": "execute_result"
    }
   ],
   "source": [
    "Recommend = list(x.index[correlation_product_ID > 0.90])\n",
    "Recommend.remove(i) \n",
    "Recommend[0:9] # top 10 highly correlated products recommendation"
   ]
  },
  {
   "cell_type": "code",
   "execution_count": 23,
   "id": "884189f1",
   "metadata": {},
   "outputs": [],
   "source": [
    "# RECOMMENDATION SYSTEM 3 -  When a business is setting up for the first time without any product rating"
   ]
  },
  {
   "cell_type": "code",
   "execution_count": 24,
   "id": "4c72a789",
   "metadata": {},
   "outputs": [],
   "source": [
    "from sklearn.feature_extraction.text import TfidfVectorizer, CountVectorizer\n",
    "from sklearn.neighbors import NearestNeighbors\n",
    "from sklearn.metrics import adjusted_rand_score"
   ]
  },
  {
   "cell_type": "code",
   "execution_count": 25,
   "id": "dba3b5d4",
   "metadata": {},
   "outputs": [
    {
     "data": {
      "text/plain": [
       "(124428, 2)"
      ]
     },
     "execution_count": 25,
     "metadata": {},
     "output_type": "execute_result"
    }
   ],
   "source": [
    "product = pd.read_csv(r\"C:\\REAL TIME PROJECTS\\RECOMMENDATION SYSTEM\\product_descriptions.csv\")\n",
    "product.shape"
   ]
  },
  {
   "cell_type": "code",
   "execution_count": 26,
   "id": "39c071f7",
   "metadata": {},
   "outputs": [
    {
     "data": {
      "text/html": [
       "<div>\n",
       "<style scoped>\n",
       "    .dataframe tbody tr th:only-of-type {\n",
       "        vertical-align: middle;\n",
       "    }\n",
       "\n",
       "    .dataframe tbody tr th {\n",
       "        vertical-align: top;\n",
       "    }\n",
       "\n",
       "    .dataframe thead th {\n",
       "        text-align: right;\n",
       "    }\n",
       "</style>\n",
       "<table border=\"1\" class=\"dataframe\">\n",
       "  <thead>\n",
       "    <tr style=\"text-align: right;\">\n",
       "      <th></th>\n",
       "      <th>product_uid</th>\n",
       "      <th>product_description</th>\n",
       "    </tr>\n",
       "  </thead>\n",
       "  <tbody>\n",
       "    <tr>\n",
       "      <th>0</th>\n",
       "      <td>100001</td>\n",
       "      <td>Not only do angles make joints stronger, they ...</td>\n",
       "    </tr>\n",
       "    <tr>\n",
       "      <th>1</th>\n",
       "      <td>100002</td>\n",
       "      <td>BEHR Premium Textured DECKOVER is an innovativ...</td>\n",
       "    </tr>\n",
       "    <tr>\n",
       "      <th>2</th>\n",
       "      <td>100003</td>\n",
       "      <td>Classic architecture meets contemporary design...</td>\n",
       "    </tr>\n",
       "    <tr>\n",
       "      <th>3</th>\n",
       "      <td>100004</td>\n",
       "      <td>The Grape Solar 265-Watt Polycrystalline PV So...</td>\n",
       "    </tr>\n",
       "    <tr>\n",
       "      <th>4</th>\n",
       "      <td>100005</td>\n",
       "      <td>Update your bathroom with the Delta Vero Singl...</td>\n",
       "    </tr>\n",
       "  </tbody>\n",
       "</table>\n",
       "</div>"
      ],
      "text/plain": [
       "   product_uid                                product_description\n",
       "0       100001  Not only do angles make joints stronger, they ...\n",
       "1       100002  BEHR Premium Textured DECKOVER is an innovativ...\n",
       "2       100003  Classic architecture meets contemporary design...\n",
       "3       100004  The Grape Solar 265-Watt Polycrystalline PV So...\n",
       "4       100005  Update your bathroom with the Delta Vero Singl..."
      ]
     },
     "execution_count": 26,
     "metadata": {},
     "output_type": "execute_result"
    }
   ],
   "source": [
    "product.head()"
   ]
  },
  {
   "cell_type": "code",
   "execution_count": 27,
   "id": "5c523c00",
   "metadata": {},
   "outputs": [
    {
     "data": {
      "text/plain": [
       "<5000x38186 sparse matrix of type '<class 'numpy.float64'>'\n",
       "\twith 349999 stored elements in Compressed Sparse Row format>"
      ]
     },
     "execution_count": 27,
     "metadata": {},
     "output_type": "execute_result"
    }
   ],
   "source": [
    "product_descriptions = product[\"product_description\"]# taking product description to a different data set\n",
    "pro_des = product_descriptions.head(1000)\n",
    "\n",
    "vec = TfidfVectorizer(stop_words='english') \n",
    "x1 = vec.fit_transform(pro_des) # removing stop words in the product description\n",
    "x1"
   ]
  },
  {
   "cell_type": "code",
   "execution_count": 28,
   "id": "46b58961",
   "metadata": {},
   "outputs": [],
   "source": [
    "# KMEANS CLUSTRING"
   ]
  },
  {
   "cell_type": "code",
   "execution_count": 29,
   "id": "71ac8b75",
   "metadata": {},
   "outputs": [
    {
     "name": "stderr",
     "output_type": "stream",
     "text": [
      "C:\\Users\\aaabh\\anaconda3\\envs\\tensorflow_env\\lib\\site-packages\\sklearn\\cluster\\_kmeans.py:870: FutureWarning: The default value of `n_init` will change from 10 to 'auto' in 1.4. Set the value of `n_init` explicitly to suppress the warning\n",
      "  warnings.warn(\n"
     ]
    },
    {
     "data": {
      "image/png": "[encoded data removed]",
      "text/plain": [
       "<Figure size 640x480 with 1 Axes>"
      ]
     },
     "metadata": {},
     "output_type": "display_data"
    }
   ],
   "source": [
    "from sklearn.cluster import KMeans\n",
    "\n",
    "km = KMeans(n_clusters = 10, init = 'k-means++')\n",
    "xkm = km.fit_predict(x1)\n",
    "mp.plot(xkm, \".\")\n",
    "mp.show()"
   ]
  },
  {
   "cell_type": "code",
   "execution_count": 30,
   "id": "bdf90bdf",
   "metadata": {},
   "outputs": [],
   "source": [
    "def print_cluster(i):\n",
    "    print(\"Cluster %d:\" % i),\n",
    "    for ind in order_centroids[i, :10]:\n",
    "        print(' %s' % terms[ind]),\n",
    "    print"
   ]
  },
  {
   "cell_type": "code",
   "execution_count": 31,
   "id": "e4449094",
   "metadata": {},
   "outputs": [
    {
     "name": "stdout",
     "output_type": "stream",
     "text": [
      "Top terms per cluster:\n",
      "Cluster 0:\n",
      " spray\n",
      " hose\n",
      " pump\n",
      " nozzle\n",
      " water\n",
      " shower\n",
      " pressure\n",
      " watering\n",
      " showerhead\n",
      " flow\n",
      "Cluster 1:\n",
      " door\n",
      " doors\n",
      " insulation\n",
      " garage\n",
      " glass\n",
      " steel\n",
      " security\n",
      " energy\n",
      " freezer\n",
      " panel\n",
      "Cluster 2:\n",
      " light\n",
      " watt\n",
      " bulb\n",
      " fan\n",
      " led\n",
      " lighting\n",
      " bulbs\n",
      " energy\n",
      " fixture\n",
      " white\n",
      "Cluster 3:\n",
      " ft\n",
      " use\n",
      " easy\n",
      " steel\n",
      " design\n",
      " used\n",
      " resistant\n",
      " installation\n",
      " home\n",
      " outdoor\n",
      "Cluster 4:\n",
      " tile\n",
      " indoor\n",
      " ceramic\n",
      " wall\n",
      " residential\n",
      " recommended\n",
      " commercial\n",
      " thinset\n",
      " frost\n",
      " installation\n",
      "Cluster 5:\n",
      " battery\n",
      " volt\n",
      " power\n",
      " speed\n",
      " lithium\n",
      " ion\n",
      " cooking\n",
      " tool\n",
      " oven\n",
      " cycle\n",
      "Cluster 6:\n",
      " blade\n",
      " saw\n",
      " cutting\n",
      " tooth\n",
      " miter\n",
      " cut\n",
      " cuts\n",
      " blades\n",
      " carbide\n",
      " steel\n",
      "Cluster 7:\n",
      " storage\n",
      " shelf\n",
      " cabinet\n",
      " shelves\n",
      " ladder\n",
      " vanity\n",
      " drawer\n",
      " adjustable\n",
      " easy\n",
      " finish\n",
      "Cluster 8:\n",
      " water\n",
      " heater\n",
      " tank\n",
      " hot\n",
      " toilet\n",
      " faucet\n",
      " valve\n",
      " flush\n",
      " bowl\n",
      " handle\n",
      "Cluster 9:\n",
      " paint\n",
      " wood\n",
      " proposition\n",
      " nbsp\n",
      " california\n",
      " residents\n",
      " 65\n",
      " ft\n",
      " concrete\n",
      " painted\n"
     ]
    }
   ],
   "source": [
    "# # Optimal clusters is \n",
    "true_k = 10\n",
    "\n",
    "model = KMeans(n_clusters=true_k, init='k-means++', max_iter=100, n_init=1)\n",
    "model.fit(x1)\n",
    "\n",
    "print(\"Top terms per cluster:\")\n",
    "order_centroids = model.cluster_centers_.argsort()[:, ::-1]\n",
    "terms = vec.get_feature_names_out()\n",
    "for i in range(true_k):\n",
    "    print_cluster(i) "
   ]
  },
  {
   "cell_type": "code",
   "execution_count": 32,
   "id": "fb0f0742",
   "metadata": {},
   "outputs": [],
   "source": [
    "def show_recommendations(product):\n",
    "    #print(\"Cluster ID:\")\n",
    "    y = vec.transform([product])\n",
    "    prediction = model.predict(y)\n",
    "    #print(prediction)\n",
    "    print_cluster(prediction[0])"
   ]
  },
  {
   "cell_type": "code",
   "execution_count": 33,
   "id": "ddafdd99",
   "metadata": {},
   "outputs": [
    {
     "name": "stdout",
     "output_type": "stream",
     "text": [
      "Cluster 6:\n",
      " blade\n",
      " saw\n",
      " cutting\n",
      " tooth\n",
      " miter\n",
      " cut\n",
      " cuts\n",
      " blades\n",
      " carbide\n",
      " steel\n"
     ]
    }
   ],
   "source": [
    "show_recommendations(\"cutting tool\")"
   ]
  },
  {
   "cell_type": "code",
   "execution_count": null,
   "id": "493c62c9",
   "metadata": {},
   "outputs": [],
   "source": []
  },
  {
   "cell_type": "code",
   "execution_count": null,
   "id": "2d913c9b",
   "metadata": {},
   "outputs": [],
   "source": []
  }
 ],
 "metadata": {
  "kernelspec": {
   "display_name": "Python 3 (ipykernel)",
   "language": "python",
   "name": "python3"
  },
  "language_info": {
   "codemirror_mode": {
    "name": "ipython",
    "version": 3
   },
   "file_extension": ".py",
   "mimetype": "text/x-python",
   "name": "python",
   "nbconvert_exporter": "python",
   "pygments_lexer": "ipython3",
   "version": "3.10.11"
  }
 },
 "nbformat": 4,
 "nbformat_minor": 5
}
